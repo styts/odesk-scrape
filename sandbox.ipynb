{
 "metadata": {
  "name": "sandbox"
 },
 "nbformat": 3,
 "nbformat_minor": 0,
 "worksheets": [
  {
   "cells": [
    {
     "cell_type": "code",
     "collapsed": true,
     "input": [
      "import os\n",
      "import requests\n",
      "from bs4 import BeautifulSoup\n",
      "\n",
      "profile_tag = \"oBd\"\n",
      "\n",
      "url_of_page = \"https://www.odesk.com/o/profiles/browse/c/web-development/fb/45/hrs/0/?q=rails&page=%s\"\n",
      "\n",
      "def parse_soup(soup):\n",
      "    profiles = []\n",
      "    bad_profiles = []\n",
      "    for profile in soup.find_all(\"div\", { \"class\" : profile_tag }):\n",
      "        try:\n",
      "            description = profile.p.text\n",
      "        except:\n",
      "            bad_profiles.append(profile)\n",
      "        rate = float(profile.find(\"span\", {\"class\": \"oFact oRate\"}).text.split(\"/\")[0][1:])\n",
      "        assert rate >= 0\n",
      "        location = profile.find(\"span\", {\"class\": \"oFact oLocation\"}).text\n",
      "        name = profile.find(\"span\", {\"itemprop\": \"name\"}).text\n",
      "        result = (name, rate, location)\n",
      "        profiles.append(result)\n",
      "        \n",
      "    if len(bad_profiles):\n",
      "        print \"Bad profiles:\", len(bad_profiles)\n",
      "        \n",
      "    return (profiles, bad_profiles)\n",
      "\n",
      "\n",
      "def cached_url_contents(number):\n",
      "    url = url_of_page % number\n",
      "    if not os.path.exists(\"/tmp/odesk-cache/\"):\n",
      "        os.makedirs(\"/tmp/odesk-cache/\")\n",
      "    if os.path.exists(\"/tmp/odesk-cache/%s/html\" % number):\n",
      "        return \"\".join(open(\"/tmp/odesk-cache/%s/html\" % number).readlines())\n",
      "    else:\n",
      "        html_doc = requests.get(url).content\n",
      "        os.makedirs(\"/tmp/odesk-cache/%s\" % number)\n",
      "        with open(\"/tmp/odesk-cache/%s/html\" % number, \"w\") as fp:\n",
      "            fp.write(html_doc)\n",
      "        return html_doc\n",
      "    \n",
      "def extract_profiles(n=385):\n",
      "    profiles = []\n",
      "    bad_profiles = []\n",
      "    for page_number in range(1,n):\n",
      "        html = cached_url_contents(page_number)\n",
      "        soup = BeautifulSoup(html)\n",
      "        #print soup\n",
      "        for p, bp in parse_soup(soup):\n",
      "            print p\n",
      "            #profiles.append(p[0])\n",
      "            #bad_profiles.append(p[1])\n",
      "    return profiles, bad_profiles\n",
      "\n",
      "profiles, bad_profiles = extract_profiles()\n",
      "bad_profiles"
     ],
     "language": "python",
     "metadata": {},
     "outputs": [
      {
       "ename": "ValueError",
       "evalue": "too many values to unpack",
       "output_type": "pyerr",
       "traceback": [
        "\u001b[0;31m---------------------------------------------------------------------------\u001b[0m\n\u001b[0;31mValueError\u001b[0m                                Traceback (most recent call last)",
        "\u001b[0;32m<ipython-input-4-b8762bc8af88>\u001b[0m in \u001b[0;36m<module>\u001b[0;34m()\u001b[0m\n\u001b[1;32m     54\u001b[0m     \u001b[0;32mreturn\u001b[0m \u001b[0mprofiles\u001b[0m\u001b[0;34m,\u001b[0m \u001b[0mbad_profiles\u001b[0m\u001b[0;34m\u001b[0m\u001b[0m\n\u001b[1;32m     55\u001b[0m \u001b[0;34m\u001b[0m\u001b[0m\n\u001b[0;32m---> 56\u001b[0;31m \u001b[0mprofiles\u001b[0m\u001b[0;34m,\u001b[0m \u001b[0mbad_profiles\u001b[0m \u001b[0;34m=\u001b[0m \u001b[0mextract_profiles\u001b[0m\u001b[0;34m(\u001b[0m\u001b[0;34m)\u001b[0m\u001b[0;34m\u001b[0m\u001b[0m\n\u001b[0m\u001b[1;32m     57\u001b[0m \u001b[0mbad_profiles\u001b[0m\u001b[0;34m\u001b[0m\u001b[0m\n",
        "\u001b[0;32m<ipython-input-4-b8762bc8af88>\u001b[0m in \u001b[0;36mextract_profiles\u001b[0;34m(n)\u001b[0m\n\u001b[1;32m     48\u001b[0m         \u001b[0msoup\u001b[0m \u001b[0;34m=\u001b[0m \u001b[0mBeautifulSoup\u001b[0m\u001b[0;34m(\u001b[0m\u001b[0mhtml\u001b[0m\u001b[0;34m)\u001b[0m\u001b[0;34m\u001b[0m\u001b[0m\n\u001b[1;32m     49\u001b[0m         \u001b[0;31m#print soup\u001b[0m\u001b[0;34m\u001b[0m\u001b[0;34m\u001b[0m\u001b[0m\n\u001b[0;32m---> 50\u001b[0;31m         \u001b[0;32mfor\u001b[0m \u001b[0mp\u001b[0m\u001b[0;34m,\u001b[0m \u001b[0mbp\u001b[0m \u001b[0;32min\u001b[0m \u001b[0mparse_soup\u001b[0m\u001b[0;34m(\u001b[0m\u001b[0msoup\u001b[0m\u001b[0;34m)\u001b[0m\u001b[0;34m:\u001b[0m\u001b[0;34m\u001b[0m\u001b[0m\n\u001b[0m\u001b[1;32m     51\u001b[0m             \u001b[0;32mprint\u001b[0m \u001b[0mp\u001b[0m\u001b[0;34m\u001b[0m\u001b[0m\n\u001b[1;32m     52\u001b[0m             \u001b[0;31m#profiles.append(p[0])\u001b[0m\u001b[0;34m\u001b[0m\u001b[0;34m\u001b[0m\u001b[0m\n",
        "\u001b[0;31mValueError\u001b[0m: too many values to unpack"
       ]
      }
     ],
     "prompt_number": 4
    },
    {
     "cell_type": "code",
     "collapsed": false,
     "input": [
      "profiles.sort(key=lambda x: x[1], reverse=True)\n",
      "countries = [\n",
      "'Austria',\n",
      "'Germany',\n",
      "#'United Kingdom'\n",
      "]\n",
      "filter(lambda x: x[2] in countries, profiles)"
     ],
     "language": "python",
     "metadata": {},
     "outputs": [
      {
       "output_type": "pyout",
       "prompt_number": 20,
       "text": [
        "[(u'Niels Ganser', 95.0, u'Germany'),\n",
        " (u'Michael G.', 61.11, u'Germany'),\n",
        " (u'Michael Klaus', 61.11, u'Germany'),\n",
        " (u'Brett Richardson', 60.0, u'Germany'),\n",
        " (u'Lorenzo M.', 55.0, u'Germany'),\n",
        " (u'Oliver Kober', 24.44, u'Germany'),\n",
        " (u'Shota Bakuradze', 21.11, u'Germany'),\n",
        " (u'Md Saifuddin Sarker', 5.56, u'Germany')]"
       ]
      }
     ],
     "prompt_number": 20
    },
    {
     "cell_type": "code",
     "collapsed": false,
     "input": [
      "profiles"
     ],
     "language": "python",
     "metadata": {},
     "outputs": [
      {
       "output_type": "pyout",
       "prompt_number": 11,
       "text": [
        "[]"
       ]
      }
     ],
     "prompt_number": 11
    }
   ],
   "metadata": {}
  }
 ]
}